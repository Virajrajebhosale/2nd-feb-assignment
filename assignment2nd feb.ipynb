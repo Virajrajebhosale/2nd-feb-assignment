{
 "cells": [
  {
   "cell_type": "markdown",
   "id": "81bf0e54-fb1e-4a24-a10c-3177d0a93056",
   "metadata": {},
   "source": [
    "Q1)'''A tuple is a collection of ordered, immutable and heterogeneous elements in Python. Here are some key characteristics of tuples:\n",
    "\n",
    "\n",
    "Immutable: Tuples are immutable, which means that once a tuple is created, its elements cannot be modified. However, you can create a new tuple by concatenating or slicing existing tuples."
   ]
  },
  {
   "cell_type": "markdown",
   "id": "ed0ed644-7867-40a6-8d1d-bb81a172ce88",
   "metadata": {},
   "source": [
    "Q2)The two tuple methods in Python are:\n",
    "\n",
    "count(): This method returns the number of occurrences of a specified element in the tuple.\n",
    "# define a tuple\n",
    "t = (1, 2, 3, 2, 4, 2, 5)\n",
    "\n",
    "# count the number of occurrences of 2\n",
    "count = t.count(2)\n",
    "\n",
    "# print the result\n",
    "print(count) # output: 3\n",
    "\n",
    "index(): This method returns the index of the first occurrence of a specified element in the tuple.\n",
    "Example:\n",
    "# define a tuple\n",
    "t = (1, 2, 3, 2, 4, 2, 5)\n",
    "\n",
    "# find the index of the first occurrence of 2\n",
    "index = t.index(2)\n",
    "\n",
    "# print the result\n",
    "print(index) # output: 1\n",
    "\n",
    "\n"
   ]
  },
  {
   "cell_type": "code",
   "execution_count": null,
   "id": "09c503ec-4a38-4cb4-8066-ca85a6b31a83",
   "metadata": {},
   "outputs": [],
   "source": [
    "Q3)In Python, the following collection datatypes do not allow duplicate items:\n",
    "\n",
    "##Set: A set is an unordered collection of unique elements. It is defined by enclosing a comma-separated sequence of elements inside curly braces {}.\n",
    "\n",
    "##Frozen set: A frozen set is an immutable version of a set. It is defined by enclosing a comma-separated sequence of elements inside parentheses ().\n",
    "\n",
    "# define the list with duplicate elements\n",
    "lst = [1, 1, 1, 2, 1, 3, 1, 4, 2, 1, 2, 2, 2, 3, 2, 4, 3, 1, 3, 2, 3, 3, 3, 4, 4, 1, 4, 2, 4, 3, 4, 4]\n",
    "\n",
    "# convert the list to a set to remove duplicates\n",
    "unique_set = set(lst)\n",
    "\n",
    "# convert the set back to a list (if needed)\n",
    "unique_lst = list(unique_set)\n",
    "\n",
    "# print the unique list\n",
    "print(unique_lst)\n",
    "[1, 2, 3, 4]\n"
   ]
  },
  {
   "cell_type": "code",
   "execution_count": null,
   "id": "0bfc23de-bc1d-47fb-9afd-a6393f5e5916",
   "metadata": {},
   "outputs": [],
   "source": [
    "Q4)Both union() and update() are methods that can be used to combine two or more sets in Python. However, there is a key difference between these two methods:\n",
    "\n",
    "union(): This method returns a new set that contains all the unique elements from all the sets that were passed as arguments to the method. The original sets remain unchanged.\n",
    "Example:\n",
    "    # define two sets\n",
    "set1 = {1, 2, 3}\n",
    "set2 = {3, 4, 5}\n",
    "\n",
    "# use the union() method to combine the sets\n",
    "new_set = set1.union(set2)\n",
    "\n",
    "# print the new set\n",
    "print(new_set) # output: {1, 2, 3, 4, 5}\n",
    "\n",
    "# print the original sets to show that they remain unchanged\n",
    "print(set1) # output: {1, 2, 3}\n",
    "print(set2) # output: {3, 4, 5}\n",
    "\n",
    "\n",
    "update(): This method updates the original set with the elements from another set (or any iterable). The method modifies the set in-place, and does not return a new set.\n",
    "Example:\n",
    "    # define two sets\n",
    "set1 = {1, 2, 3}\n",
    "set2 = {3, 4, 5}\n",
    "\n",
    "# use the update() method to combine the sets\n",
    "set1.update(set2)\n",
    "\n",
    "# print the updated set\n",
    "print(set1) # output: {1, 2, 3, 4, 5}\n",
    "\n",
    "# print the original set2 to show that it remains unchanged\n",
    "print(set2) # output: {3, 4, 5}\n"
   ]
  },
  {
   "cell_type": "markdown",
   "id": "e3053e02-ef62-44c6-baa5-7afb4d9239d8",
   "metadata": {},
   "source": [
    "Q5)In Python, a dictionary is a collection data type that stores data in the form of key-value pairs. Each key-value pair is separated by a colon : and the pairs are enclosed in curly braces {}.\n",
    "# create a dictionary\n",
    "student = {\"name\": \"John\", \"age\": 20, \"major\": \"Computer Science\"}\n",
    "\n",
    "# print the dictionary\n",
    "print(student)\n",
    "{'name': 'John', 'age': 20, 'major': 'Computer Science'}\n",
    "\n",
    "A dictionary in Python is an unordered data type, meaning the order in which the key-value pairs are stored in the dictionary is not guaranteed to be in the order they were added. However, as of Python 3.7, the insertion order of a dictionary is preserved. So, while a dictionary is not guaranteed to be ordered, in practice, it behaves like an ordered data type in most cases.\n"
   ]
  },
  {
   "cell_type": "markdown",
   "id": "296d362e-05a4-4081-823b-f441ae2ab6d7",
   "metadata": {},
   "source": [
    "Q6)Yes, we can create a nested dictionary in Python. A nested dictionary is a dictionary that contains one or more dictionaries as values for its keys.\n",
    "\n",
    "Here's an example of a simple one-level nested dictionary:\n",
    "\n",
    "python\n",
    "\n",
    "# create a nested dictionary\n",
    "employee = {\"John\": {\"age\": 30, \"salary\": 50000},\n",
    "            \"Mary\": {\"age\": 25, \"salary\": 40000}}\n",
    "\n",
    "# print the nested dictionary\n",
    "print(employee)\n",
    "Output:\n",
    "    {'John': {'age': 30, 'salary': 50000}, 'Mary': {'age': 25, 'salary': 40000}}\n",
    "In the above example, we create a nested dictionary named employee with two keys \"John\" and \"Mary\". The values for these keys are themselves dictionaries, containing the key-value pairs \"age\": 30 and \"salary\": 50000 for \"John\", and \"age\": 25 and \"salary\": 40000 for \"Mary\".\n",
    "\n"
   ]
  },
  {
   "cell_type": "markdown",
   "id": "332995fa-3bca-480b-93ce-1870a1ccbd75",
   "metadata": {},
   "source": [
    "Q7)##here's an example of using the setdefault() method to add a key named topics with a value of ['Python', 'Machine Learning’, 'Deep Learning'] to a dictionary:\n",
    "# create a dictionary\n",
    "my_dict = {'name': 'John', 'age': 30}\n",
    "\n",
    "# use setdefault() to add a new key-value pair\n",
    "my_dict.setdefault('topics', ['Python', 'Machine Learning', 'Deep Learning'])\n",
    "\n",
    "# print the updated dictionary\n",
    "print(my_dict)\n",
    "{'name': 'John', 'age': 30, 'topics': ['Python', 'Machine Learning', 'Deep Learning']}\n"
   ]
  },
  {
   "cell_type": "markdown",
   "id": "ab92ebe1-e407-4d15-a999-f8b9d623f492",
   "metadata": {},
   "source": [
    "Q8)In Python, dictionaries have three view objects that provide different ways to view the dictionary's contents. These view objects are:\n",
    "\n",
    "dict.keys(): This method returns a view object that contains the keys of the dictionary.\n",
    "dict.values(): This method returns a view object that contains the values of the dictionary.\n",
    "dict.items(): This method returns a view object that contains the key-value pairs of the dictionary as tuples.\n",
    "Here's an example of using these methods on the dictionary dict1:\n",
    "# create a dictionary\n",
    "dict1 = {'Sport': 'Cricket' , 'Teams': ['India', 'Australia', 'England', 'South Africa', 'Sri Lanka', 'New Zealand']}\n",
    "\n",
    "# get the view object for keys\n",
    "keys_view = dict1.keys()\n",
    "\n",
    "# get the view object for values\n",
    "values_view = dict1.values()\n",
    "\n",
    "# get the view object for items\n",
    "items_view = dict1.items()\n",
    "\n",
    "# print the view objects\n",
    "print(keys_view)\n",
    "print(values_view)\n",
    "print(items_view)\n",
    "dict_keys(['Sport', 'Teams'])\n",
    "dict_values(['Cricket', ['India', 'Australia', 'England', 'South Africa', 'Sri Lanka', 'New Zealand']])\n",
    "dict_items([('Sport', 'Cricket'), ('Teams', ['India', 'Australia', 'England', 'South Africa', 'Sri Lanka', 'New Zealand'])])\n"
   ]
  }
 ],
 "metadata": {
  "kernelspec": {
   "display_name": "Python 3 (ipykernel)",
   "language": "python",
   "name": "python3"
  },
  "language_info": {
   "codemirror_mode": {
    "name": "ipython",
    "version": 3
   },
   "file_extension": ".py",
   "mimetype": "text/x-python",
   "name": "python",
   "nbconvert_exporter": "python",
   "pygments_lexer": "ipython3",
   "version": "3.10.8"
  }
 },
 "nbformat": 4,
 "nbformat_minor": 5
}
